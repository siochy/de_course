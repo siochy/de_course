{
 "cells": [
  {
   "cell_type": "markdown",
   "id": "bc05452e",
   "metadata": {},
   "source": [
    "**Итоговое задание Data Engineer/Python**"
   ]
  },
  {
   "cell_type": "code",
   "execution_count": 120,
   "id": "fad45e5d",
   "metadata": {},
   "outputs": [],
   "source": [
    "# список покупок\n",
    "purchases = [\n",
    "    {\"item\": \"apple\", \"category\": \"fruit\", \"price\": 1.2, \"quantity\": 10},\n",
    "    {\"item\": \"banana\", \"category\": \"fruit\", \"price\": 0.5, \"quantity\": 5},\n",
    "    {\"item\": \"milk\", \"category\": \"dairy\", \"price\": 1.5, \"quantity\": 2},\n",
    "    {\"item\": \"bread\", \"category\": \"bakery\", \"price\": 2.0, \"quantity\": 3},\n",
    "]"
   ]
  },
  {
   "cell_type": "code",
   "execution_count": 119,
   "id": "1f8f4be6",
   "metadata": {},
   "outputs": [],
   "source": [
    "def total_revenue(purchases: list) -> float:\n",
    "    '''общая выручка - сумма произведения элементов списка'''\n",
    "    return sum([i['price'] * i['quantity'] for i in purchases])"
   ]
  },
  {
   "cell_type": "code",
   "execution_count": 118,
   "id": "64e421d6",
   "metadata": {},
   "outputs": [],
   "source": [
    "def items_by_category(purchases: list) -> dict:\n",
    "    '''списки по категориям: добавляем в пустой словарь элементы после проверки на их наличие'''\n",
    "    items = dict()\n",
    "    for purchase in purchases:\n",
    "        if purchase['category'] not in items:\n",
    "            items[purchase['category']] = []\n",
    "        if purchase['item'] not in items[purchase['category']]:\n",
    "            items[purchase['category']].append(purchase['item'])\n",
    "    return items"
   ]
  },
  {
   "cell_type": "code",
   "execution_count": 117,
   "id": "dedfa95e",
   "metadata": {},
   "outputs": [],
   "source": [
    "min_price = 1.0\n",
    "\n",
    "def expensive_purchases(purchases: list, min_price: float) -> list:\n",
    "    '''выводим все элементы списка, если цена там выше min_price'''\n",
    "    expensive = list()\n",
    "    for purchase in purchases:\n",
    "        if purchase['price'] >= min_price:\n",
    "            expensive.append(purchase)\n",
    "    return expensive"
   ]
  },
  {
   "cell_type": "code",
   "execution_count": 116,
   "id": "a898470d",
   "metadata": {},
   "outputs": [],
   "source": [
    "def average_price_by_category(purchases: list) -> dict:\n",
    "    '''для средней цены категории создаём 2 словаря: один для суммы цен, другой для количества продуктов'''\n",
    "    avg_category = dict()\n",
    "    cnt_category = dict()\n",
    "    for purchase in purchases:\n",
    "        if purchase['category'] not in avg_category:\n",
    "            avg_category[purchase['category']] = purchase['price']\n",
    "            cnt_category[purchase['category']] = 1\n",
    "        else:\n",
    "            avg_category[purchase['category']] += purchase['price']\n",
    "            cnt_category[purchase['category']] += 1\n",
    "    for category in avg_category.keys():\n",
    "        avg_category[category] = avg_category[category] / cnt_category[category]\n",
    "    return avg_category"
   ]
  },
  {
   "cell_type": "code",
   "execution_count": null,
   "id": "02c555f5",
   "metadata": {},
   "outputs": [],
   "source": [
    "def most_frequent_category(purchases: list) -> str:\n",
    "    '''для самой частой категории считаем считаем каждую категорию и выводим максимальное'''\n",
    "    cnt_category = dict()\n",
    "    for purchase in purchases:\n",
    "        if purchase['category'] not in cnt_category:\n",
    "            cnt_category[purchase['category']] = 1\n",
    "        else:\n",
    "            cnt_category[purchase['category']] += 1\n",
    "    return max(cnt_category, key=cnt_category.get)"
   ]
  },
  {
   "cell_type": "code",
   "execution_count": 121,
   "id": "e51d44fb",
   "metadata": {},
   "outputs": [
    {
     "name": "stdout",
     "output_type": "stream",
     "text": [
      "Общая выручка: 23.5\n",
      "Товары по категориям: {'fruit': ['apple', 'banana'], 'dairy': ['milk'], 'bakery': ['bread']}\n",
      "Покупки дороже 1.0: [{'item': 'apple', 'category': 'fruit', 'price': 1.2, 'quantity': 10}, {'item': 'milk', 'category': 'dairy', 'price': 1.5, 'quantity': 2}, {'item': 'bread', 'category': 'bakery', 'price': 2.0, 'quantity': 3}]\n",
      "Средняя цена по категориям: {'fruit': 0.85, 'dairy': 1.5, 'bakery': 2.0}\n",
      "Категория с наибольшим количеством проданных товаров: fruit\n"
     ]
    }
   ],
   "source": [
    "print(f'''Общая выручка: {total_revenue(purchases)}\n",
    "Товары по категориям: {items_by_category(purchases)}\n",
    "Покупки дороже {min_price}: {expensive_purchases(purchases, min_price)}\n",
    "Средняя цена по категориям: {average_price_by_category(purchases)}\n",
    "Категория с наибольшим количеством проданных товаров: {most_frequent_category(purchases)}''')"
   ]
  }
 ],
 "metadata": {
  "kernelspec": {
   "display_name": "Python 3",
   "language": "python",
   "name": "python3"
  },
  "language_info": {
   "codemirror_mode": {
    "name": "ipython",
    "version": 3
   },
   "file_extension": ".py",
   "mimetype": "text/x-python",
   "name": "python",
   "nbconvert_exporter": "python",
   "pygments_lexer": "ipython3",
   "version": "3.13.3"
  }
 },
 "nbformat": 4,
 "nbformat_minor": 5
}
